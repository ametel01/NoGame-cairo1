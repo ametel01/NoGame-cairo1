{
 "cells": [
  {
   "cell_type": "code",
   "execution_count": 1,
   "metadata": {},
   "outputs": [
    {
     "name": "stdout",
     "output_type": "stream",
     "text": [
      "Metadata for 500 planets created and saved.\n"
     ]
    }
   ],
   "source": [
    "import random\n",
    "import os\n",
    "import json\n",
    "from itertools import permutations\n",
    "\n",
    "BASE_IMAGE_URL = \"https://pink-capable-snake-964.mypinata.cloud/ipfs/QmYuu69m6ArmGq18QjC6UpqFgevFZXooupAyaxKd9XfDpW/\"\n",
    "\n",
    "def create_unique_name(all_names, word_pool, num_words=4):\n",
    "    for name_permutation in permutations(word_pool, num_words):\n",
    "        name = ' '.join(name_permutation)\n",
    "        if name not in all_names:\n",
    "            all_names.add(name)\n",
    "            return name\n",
    "    raise ValueError(\"No unique names available. Increase the number of words per name.\")\n",
    "\n",
    "def create_planet_metadata(n, word_pool):\n",
    "    all_planets = []\n",
    "    all_names = set()\n",
    "    temperature_difference = 220 - 28\n",
    "    temperature_step = temperature_difference // 5\n",
    "    hottest_temp = 220\n",
    "    coldest_temp = -220\n",
    "\n",
    "    for i in range(n):\n",
    "        image_id = (i % 10) + 1\n",
    "        if image_id <= 6:\n",
    "            temperature = hottest_temp - (image_id - 1) * temperature_step\n",
    "        else:\n",
    "            remaining_temp_step = (coldest_temp - 28) // 4\n",
    "            temperature = 28 + (image_id - 6) * remaining_temp_step\n",
    "\n",
    "        attributes = [\n",
    "            {\"trait_type\": \"name\", \"value\": create_unique_name(all_names, word_pool)},\n",
    "            {\"trait_type\": \"size\", \"value\": random.randint(90, 250)},\n",
    "            {\"trait_type\": \"temperature\", \"value\": temperature}\n",
    "        ]\n",
    "\n",
    "        new_planet = {\n",
    "            \"name\": \"NoGame World One\",\n",
    "            \"description\": \"A planet to access NoGame universe\",\n",
    "            \"image\": BASE_IMAGE_URL + f\"{image_id}.png\",\n",
    "            \"attributes\": attributes,\n",
    "            \"tokenId\": i + 1\n",
    "        }\n",
    "        all_planets.append(new_planet)\n",
    "    return all_planets\n",
    "\n",
    "def save_metadata_files(planets, directory):\n",
    "    if not os.path.exists(directory):\n",
    "        os.mkdir(directory)\n",
    "    for planet in planets:\n",
    "        filename = f\"{directory}/{planet['tokenId']}\"\n",
    "        with open(filename, 'w') as f:\n",
    "            planet_data = {k: v for k, v in planet.items() if k != 'tokenId'}\n",
    "            json.dump(planet_data, f, indent=4)\n",
    "\n",
    "word_pool = [\"Nova\", \"Luna\", \"Terra\", \"Sol\", \"Aqua\", \"Pyra\", \"Zephyr\", \"Gaia\", \"Caeli\", \"Vita\"]\n",
    "\n",
    "# Change the number of planets to 500\n",
    "planets_metadata = create_planet_metadata(500, word_pool)\n",
    "save_metadata_files(planets_metadata, './metadata')\n",
    "\n",
    "print(\"Metadata for 500 planets created and saved.\")\n"
   ]
  },
  {
   "cell_type": "code",
   "execution_count": null,
   "metadata": {},
   "outputs": [],
   "source": []
  }
 ],
 "metadata": {
  "kernelspec": {
   "display_name": "Python 3",
   "language": "python",
   "name": "python3"
  },
  "language_info": {
   "codemirror_mode": {
    "name": "ipython",
    "version": 3
   },
   "file_extension": ".py",
   "mimetype": "text/x-python",
   "name": "python",
   "nbconvert_exporter": "python",
   "pygments_lexer": "ipython3",
   "version": "3.9.18"
  }
 },
 "nbformat": 4,
 "nbformat_minor": 2
}
